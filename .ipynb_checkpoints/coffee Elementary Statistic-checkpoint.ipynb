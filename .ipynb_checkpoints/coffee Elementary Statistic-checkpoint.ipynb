{
 "cells": [
  {
   "cell_type": "markdown",
   "metadata": {},
   "source": [
    "# 파이썬 데이터 분석 멘토링\n",
    "\n",
    " 먼저, 데이터의 형태를 보고 데이터의 기본 정보를 확인해봅시다.\n",
    "\n",
    " 사용될 데이터는 커피숍의 1달간 데이터입니다.\n",
    "\n",
    "    - 고객 데이터, 세대 구분 데이터\n",
    "    - 날짜 데이터\n",
    "    - 빵 재고 데이터\n",
    "    - 제품 데이터\n",
    "    - 세일즈 타겟, 세일즈 채널 데이터\n",
    "    - 직원 데이터\n",
    "    - 2019년 04월 영수증 데이터\n",
    "\n",
    " 기초 통계량을 뽑아보고 데이터에서 보이는것 외에 어떤 정보가 있을지\n",
    " \n",
    " 데이터를 가지고 커피숍 운영에 더 나아 질 수 있는 포인트가 있을지 확인해봅시다"
   ]
  },
  {
   "cell_type": "markdown",
   "metadata": {},
   "source": []
  }
 ],
 "metadata": {
  "kernelspec": {
   "display_name": "Python 3",
   "language": "python",
   "name": "python3"
  },
  "language_info": {
   "codemirror_mode": {
    "name": "ipython",
    "version": 3
   },
   "file_extension": ".py",
   "mimetype": "text/x-python",
   "name": "python",
   "nbconvert_exporter": "python",
   "pygments_lexer": "ipython3",
   "version": "3.7.4"
  }
 },
 "nbformat": 4,
 "nbformat_minor": 2
}
