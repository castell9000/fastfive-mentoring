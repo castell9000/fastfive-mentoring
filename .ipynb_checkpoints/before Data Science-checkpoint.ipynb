{
 "cells": [
  {
   "cell_type": "markdown",
   "metadata": {},
   "source": [
    "### 분석 이전에 사용될 언어와 툴에 대해 내용을 빠르게 알아보죠.\n",
    "\n",
    "1. Python : \n",
    "\n",
    "    프로그래밍 언어입니다. 요즘에는 데이터 분석에 많이 활용 하기 때문에, Data Science 에 관련해서만 내용이 나오지만\n",
    "    \n",
    "    기본적으로 프로그램을 제작할 수 있는 언어입니다.\n",
    "    \n",
    "    파이썬이 데이터 활용에 쓰이는 이유는 언어 자체를 읽는데 문장처럼 흐르는데로 읽을 수 있고 (상대적으로... 다른언어에 비해)\n",
    "    \n",
    "    배열 형태로 된 데이터를 아주 쉽고 간단하게 가공할 수 있습니다\n",
    "    \n",
    "    먼저 배열형태의 데이터를 표현하고, 얼마나 간단히 자를 수 있는지 예시를 보여 드릴게요.\n",
    "    \n",
    "    ** 저희는 Python 3 라고 불리기도 하는 3버젼의 python을 씁니다. 2버젼은 곧 없어진단 소리만 1년이 넘었는데... (대세는 python3)\n",
    "    \n",
    "    ** 문법이 좀 달라서 예제를 찾다보면 Python 2 기반의 예제도 있을텐데 아마 바로 안돌아 갈거에요"
   ]
  },
  {
   "cell_type": "code",
   "execution_count": 1,
   "metadata": {},
   "outputs": [
    {
     "name": "stdout",
     "output_type": "stream",
     "text": [
      "[1, 2, 3, 4, 5, 6, 7, 8, 9, 10]\n"
     ]
    }
   ],
   "source": [
    "# 프로그래밍에서는 변수 선언을 필수적으로 해줘야 합니다. \n",
    "# 변수 선언이라고 생각하시기 보다 데이터를 적어둘 메모장을 하나 만든다고 생각해봅시다.\n",
    "# 1 ~ 10 의 숫자 배열을 만들어 봅시다.\n",
    "numberArray = [1, 2, 3, 4, 5, 6, 7, 8, 9, 10]\n",
    "\n",
    "print(numberArray) # 메모장을 출력하는 명령어 입니다."
   ]
  },
  {
   "cell_type": "code",
   "execution_count": 2,
   "metadata": {},
   "outputs": [
    {
     "name": "stdout",
     "output_type": "stream",
     "text": [
      "1\n",
      "10\n"
     ]
    }
   ],
   "source": [
    "# numberArray 라는 메모장에 1 ~ 10의 숫자를 적었습니다.\n",
    "# 이 메모장은 각 숫자마다 각각 잘라서 필요할때 사용할 수 있어요.\n",
    "# 단 특이한점은 모든 배열의 시작은 0번입니다.\n",
    "print(numberArray[0])\n",
    "print(numberArray[9])"
   ]
  },
  {
   "cell_type": "code",
   "execution_count": 3,
   "metadata": {},
   "outputs": [
    {
     "name": "stdout",
     "output_type": "stream",
     "text": [
      "[4, 5, 6, 7, 8, 9, 10]\n"
     ]
    }
   ],
   "source": [
    "# 예를 하나 들어서 1 ~ 3의 데이터는 필요가 없어요. 잘라버리고 싶네요.\n",
    "# 그렇다면 3번째 까지 데이터는 필요가없죠 ( 배열 번호 2번 , 0, 1, 2 이기 때문에)\n",
    "print(numberArray[3:])\n",
    "# 배열은 3번째가 번호는 2 이기때문에 '배열 3번 부터 가져와' 를 3: 으로 표현할 수 있습니다."
   ]
  },
  {
   "cell_type": "code",
   "execution_count": 4,
   "metadata": {},
   "outputs": [
    {
     "name": "stdout",
     "output_type": "stream",
     "text": [
      "[4, 5, 6, 7]\n"
     ]
    }
   ],
   "source": [
    "# 응용하면 배열 3번 부터 7번도 쉽게 할 수 있습니다.\n",
    "print(numberArray[3:7])"
   ]
  },
  {
   "cell_type": "code",
   "execution_count": 5,
   "metadata": {},
   "outputs": [
    {
     "name": "stdout",
     "output_type": "stream",
     "text": [
      "[6, 7, 8, 9, 10]\n"
     ]
    }
   ],
   "source": [
    "# 조금 갑자기 진도가 나갔지만, 5보다 큰 숫자도 빠르게 찾을 수 있습니다.\n",
    "# 후에 다른 형태를 쓰면 이것보다 더 간단히 자르고 찾을수 있어요.\n",
    "print(list (filter (lambda x: x>5, numberArray) ) )"
   ]
  },
  {
   "cell_type": "markdown",
   "metadata": {},
   "source": [
    " 2. Jupyter Notebook\n",
    " \n",
    "     사용중인 코딩 툴.. 이라고 해야할까요?\n",
    "     \n",
    "     보통은 이걸로 서비스에 사용될 로직을 짜기보단, 간단하게 빠르게 테스트하면서 짜기 위해서 사용합니다.\n",
    "     \n",
    "     각 블럭마다 코드를 실행 시켜 볼 수 있기 때문에 그때 그때 숫자를 보기 위해서 Data Science 에서 많이 활용 됩니다.\n",
    "     \n",
    "     블럭을 하나씩 내릴땐 Shift + Enter 로 내리면 블럭 실행 + 블럭 생성 + 다음 블럭으로 이동 이 한번에 수행됩니다."
   ]
  },
  {
   "cell_type": "markdown",
   "metadata": {},
   "source": [
    " 3. Numpy, Pandas\n",
    "     \n",
    "     데이터 분석을 위한 라이브러리 입니다.\n",
    "     \n",
    "     데이터를 자르고 붙이고 간단하게 계산하고..\n",
    "     \n",
    "     코드로 엑셀에 있는 기능을 쉽게 쓸 수 있다고 해야 할까요.\n",
    "     \n",
    "     계속 사용 할거라 모두를 알 필요는 없습니다.\n",
    "  \n",
    "     왠만한 분석, 통계에 관련한 기능은 다 있기때문에 구글에 검색하면 다 나오니까 필요할때 검색해서 쓰는게 좋아요.\n",
    "     \n",
    "     간단하게 평균, 분산, 중간값, 최솟값, 최댓값 구하는 예제를 하죠\n",
    "     \n",
    "     아래 예제를 조금 본다면 아.. 그냥 사람들 쓰라는거 쓰는게 편하구나 싶을거고\n",
    "     \n",
    "     배우시다보면 자연스럽게 pandas 와 numpy를 쓰고 있는 자신을 발견하게 될거에요."
   ]
  },
  {
   "cell_type": "code",
   "execution_count": 6,
   "metadata": {},
   "outputs": [],
   "source": [
    "# 먼저 라이브러리를 가져와야 합니다. python 기본으로 있는게 아니고 가져와서 사용하여야 합니다.\n",
    "# pandas 와 numpy를 다 치는건 손가락 아프니까 별칭을 pd 와 np로 지어서 사용하겠습니다.\n",
    "import pandas as pd \n",
    "import numpy as np"
   ]
  },
  {
   "cell_type": "code",
   "execution_count": 7,
   "metadata": {},
   "outputs": [],
   "source": [
    "# 먼저 pandas에 가장 강력한 기능인 DataFrame으로 시작하죠.\n",
    "# 배열이지만 배열이 아닌.. 좀 더 강력한 배열로 생각하시면 될 것 같습니다.\n",
    "# numberFrame 에 배열을 DataFrame으로 변환한 데이터를 만듭니다.\n",
    "numberFrame = pd.DataFrame(numberArray)"
   ]
  },
  {
   "cell_type": "code",
   "execution_count": 8,
   "metadata": {},
   "outputs": [
    {
     "data": {
      "text/html": [
       "<div>\n",
       "<style scoped>\n",
       "    .dataframe tbody tr th:only-of-type {\n",
       "        vertical-align: middle;\n",
       "    }\n",
       "\n",
       "    .dataframe tbody tr th {\n",
       "        vertical-align: top;\n",
       "    }\n",
       "\n",
       "    .dataframe thead th {\n",
       "        text-align: right;\n",
       "    }\n",
       "</style>\n",
       "<table border=\"1\" class=\"dataframe\">\n",
       "  <thead>\n",
       "    <tr style=\"text-align: right;\">\n",
       "      <th></th>\n",
       "      <th>0</th>\n",
       "    </tr>\n",
       "  </thead>\n",
       "  <tbody>\n",
       "    <tr>\n",
       "      <td>0</td>\n",
       "      <td>1</td>\n",
       "    </tr>\n",
       "    <tr>\n",
       "      <td>1</td>\n",
       "      <td>2</td>\n",
       "    </tr>\n",
       "    <tr>\n",
       "      <td>2</td>\n",
       "      <td>3</td>\n",
       "    </tr>\n",
       "    <tr>\n",
       "      <td>3</td>\n",
       "      <td>4</td>\n",
       "    </tr>\n",
       "    <tr>\n",
       "      <td>4</td>\n",
       "      <td>5</td>\n",
       "    </tr>\n",
       "    <tr>\n",
       "      <td>5</td>\n",
       "      <td>6</td>\n",
       "    </tr>\n",
       "    <tr>\n",
       "      <td>6</td>\n",
       "      <td>7</td>\n",
       "    </tr>\n",
       "    <tr>\n",
       "      <td>7</td>\n",
       "      <td>8</td>\n",
       "    </tr>\n",
       "    <tr>\n",
       "      <td>8</td>\n",
       "      <td>9</td>\n",
       "    </tr>\n",
       "    <tr>\n",
       "      <td>9</td>\n",
       "      <td>10</td>\n",
       "    </tr>\n",
       "  </tbody>\n",
       "</table>\n",
       "</div>"
      ],
      "text/plain": [
       "    0\n",
       "0   1\n",
       "1   2\n",
       "2   3\n",
       "3   4\n",
       "4   5\n",
       "5   6\n",
       "6   7\n",
       "7   8\n",
       "8   9\n",
       "9  10"
      ]
     },
     "execution_count": 8,
     "metadata": {},
     "output_type": "execute_result"
    }
   ],
   "source": [
    "# 한번 출력 시켜 보아요\n",
    "# 하나만 있을땐 print 명령어를 쓰지않아도 볼 수 있습니다.\n",
    "numberFrame"
   ]
  },
  {
   "cell_type": "code",
   "execution_count": 9,
   "metadata": {},
   "outputs": [
    {
     "data": {
      "text/html": [
       "<div>\n",
       "<style scoped>\n",
       "    .dataframe tbody tr th:only-of-type {\n",
       "        vertical-align: middle;\n",
       "    }\n",
       "\n",
       "    .dataframe tbody tr th {\n",
       "        vertical-align: top;\n",
       "    }\n",
       "\n",
       "    .dataframe thead th {\n",
       "        text-align: right;\n",
       "    }\n",
       "</style>\n",
       "<table border=\"1\" class=\"dataframe\">\n",
       "  <thead>\n",
       "    <tr style=\"text-align: right;\">\n",
       "      <th></th>\n",
       "      <th>0</th>\n",
       "    </tr>\n",
       "  </thead>\n",
       "  <tbody>\n",
       "    <tr>\n",
       "      <td>0</td>\n",
       "      <td>NaN</td>\n",
       "    </tr>\n",
       "    <tr>\n",
       "      <td>1</td>\n",
       "      <td>NaN</td>\n",
       "    </tr>\n",
       "    <tr>\n",
       "      <td>2</td>\n",
       "      <td>NaN</td>\n",
       "    </tr>\n",
       "    <tr>\n",
       "      <td>3</td>\n",
       "      <td>4.0</td>\n",
       "    </tr>\n",
       "    <tr>\n",
       "      <td>4</td>\n",
       "      <td>5.0</td>\n",
       "    </tr>\n",
       "    <tr>\n",
       "      <td>5</td>\n",
       "      <td>6.0</td>\n",
       "    </tr>\n",
       "    <tr>\n",
       "      <td>6</td>\n",
       "      <td>7.0</td>\n",
       "    </tr>\n",
       "    <tr>\n",
       "      <td>7</td>\n",
       "      <td>8.0</td>\n",
       "    </tr>\n",
       "    <tr>\n",
       "      <td>8</td>\n",
       "      <td>9.0</td>\n",
       "    </tr>\n",
       "    <tr>\n",
       "      <td>9</td>\n",
       "      <td>10.0</td>\n",
       "    </tr>\n",
       "  </tbody>\n",
       "</table>\n",
       "</div>"
      ],
      "text/plain": [
       "      0\n",
       "0   NaN\n",
       "1   NaN\n",
       "2   NaN\n",
       "3   4.0\n",
       "4   5.0\n",
       "5   6.0\n",
       "6   7.0\n",
       "7   8.0\n",
       "8   9.0\n",
       "9  10.0"
      ]
     },
     "execution_count": 9,
     "metadata": {},
     "output_type": "execute_result"
    }
   ],
   "source": [
    "# 3 초과 값을 가져옵니다.\n",
    "# 배열보다 좀더 직관적이죠? \n",
    "# 다만 값들이 NaN 으로 변환됩니다\n",
    "numberFrame[numberFrame > 3]"
   ]
  },
  {
   "cell_type": "code",
   "execution_count": 10,
   "metadata": {},
   "outputs": [
    {
     "name": "stdout",
     "output_type": "stream",
     "text": [
      "      0\n",
      "0   4.0\n",
      "1   5.0\n",
      "2   6.0\n",
      "3   7.0\n",
      "4   8.0\n",
      "5   9.0\n",
      "6  10.0\n"
     ]
    }
   ],
   "source": [
    "# 우리는 3을 초과한 내용만 있으면 되니까 NaN을 버려줍시다\n",
    "# 0번째 에서 2번째를 잘라 버리기 때문에 배열의 순서를 다시 매겨줍니다.\n",
    "# 순서를 다시매기는건 꼭 필요는 없어요!\n",
    "overThreeFrame = numberFrame[numberFrame > 3].dropna().reset_index(drop=True)\n",
    "print(overThreeFrame)"
   ]
  },
  {
   "cell_type": "code",
   "execution_count": 11,
   "metadata": {},
   "outputs": [
    {
     "name": "stdout",
     "output_type": "stream",
     "text": [
      "49\n",
      "0\n",
      "0    49.0\n",
      "dtype: float64\n"
     ]
    }
   ],
   "source": [
    "# 합계\n",
    "# 파이썬 기본 함수와 비교\n",
    "# 꼭 numpy 함수를 쓸 필요는 없지만, dataframe 계산을 기본 함수에서 할 수 없어요.\n",
    "print( sum(numberArray[3:]) )\n",
    "print( sum(overThreeFrame) )\n",
    "print( np.sum(overThreeFrame) )"
   ]
  },
  {
   "cell_type": "code",
   "execution_count": 12,
   "metadata": {},
   "outputs": [
    {
     "name": "stdout",
     "output_type": "stream",
     "text": [
      "7.0\n",
      "0    7.0\n",
      "dtype: float64\n",
      "7.0\n"
     ]
    }
   ],
   "source": [
    "# 평균\n",
    "# 파이썬 기본함수엔 평균이 없어서 합계에서 나누어줍시다\n",
    "# mean, average 둘다 평균이지만 average는 배열의 차원을 고려해서 계산할 수 있다.\n",
    "print( sum(numberArray[3:]) / len(numberArray[3:]) )\n",
    "print( np.mean(overThreeFrame) )\n",
    "print( np.average(overThreeFrame) )"
   ]
  },
  {
   "cell_type": "code",
   "execution_count": 13,
   "metadata": {},
   "outputs": [
    {
     "name": "stdout",
     "output_type": "stream",
     "text": [
      "4.0\n",
      "0    4.0\n",
      "dtype: float64\n"
     ]
    }
   ],
   "source": [
    "# 분산\n",
    "# 파이썬 기본함수로 하기엔 점점... 힘들어서 좀 꼼수\n",
    "print( sum((numberArray[3:] - np.mean(numberArray[3:]) )**2)/len(numberArray[3:]))\n",
    "print( np.var(overThreeFrame) )"
   ]
  },
  {
   "cell_type": "code",
   "execution_count": 14,
   "metadata": {},
   "outputs": [
    {
     "name": "stdout",
     "output_type": "stream",
     "text": [
      "2.0\n",
      "0    2.0\n",
      "dtype: float64\n"
     ]
    }
   ],
   "source": [
    "# 표준편차\n",
    "# math는 기본 라이브러리지만 쓰려면 꺼내와야되요.\n",
    "import math\n",
    "print( math.sqrt( sum((numberArray[3:] - np.mean(numberArray[3:]) )**2)/len(numberArray[3:]) ))\n",
    "print( np.std(overThreeFrame) )"
   ]
  },
  {
   "cell_type": "code",
   "execution_count": null,
   "metadata": {},
   "outputs": [],
   "source": []
  }
 ],
 "metadata": {
  "kernelspec": {
   "display_name": "Python 3",
   "language": "python",
   "name": "python3"
  },
  "language_info": {
   "codemirror_mode": {
    "name": "ipython",
    "version": 3
   },
   "file_extension": ".py",
   "mimetype": "text/x-python",
   "name": "python",
   "nbconvert_exporter": "python",
   "pygments_lexer": "ipython3",
   "version": "3.7.4"
  }
 },
 "nbformat": 4,
 "nbformat_minor": 2
}
